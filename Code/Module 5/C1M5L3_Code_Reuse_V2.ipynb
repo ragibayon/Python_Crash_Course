{
  "nbformat": 4,
  "nbformat_minor": 0,
  "metadata": {
    "kernelspec": {
      "display_name": "Python 3",
      "language": "python",
      "name": "python3"
    },
    "language_info": {
      "codemirror_mode": {
        "name": "ipython",
        "version": 3
      },
      "file_extension": ".py",
      "mimetype": "text/x-python",
      "name": "python",
      "nbconvert_exporter": "python",
      "pygments_lexer": "ipython3",
      "version": "3.6.7"
    },
    "colab": {
      "name": "C1M5L3_Code_Reuse_V2.ipynb",
      "provenance": [],
      "collapsed_sections": []
    }
  },
  "cells": [
    {
      "cell_type": "markdown",
      "metadata": {
        "id": "oe-k8q5A0Mhp",
        "colab_type": "text"
      },
      "source": [
        "# Code Reuse"
      ]
    },
    {
      "cell_type": "markdown",
      "metadata": {
        "id": "UPPz5rHJ0Mh1",
        "colab_type": "text"
      },
      "source": [
        "Let’s put what we learned about code reuse all together. \n",
        "<br><br>\n",
        "First, let’s look back at **inheritance**. Run the following cell that defines a generic `Animal` class. "
      ]
    },
    {
      "cell_type": "code",
      "metadata": {
        "id": "a-gpepQW0Mh4",
        "colab_type": "code",
        "colab": {}
      },
      "source": [
        "class Animal:\n",
        "    name = \"\"\n",
        "    category = \"\"\n",
        "    \n",
        "    def __init__(self, name):\n",
        "        self.name = name\n",
        "    \n",
        "    def set_category(self, category):\n",
        "        self.category = category"
      ],
      "execution_count": 0,
      "outputs": []
    },
    {
      "cell_type": "markdown",
      "metadata": {
        "id": "LcJF2sxE0MiE",
        "colab_type": "text"
      },
      "source": [
        "What we have is not enough to do much -- yet. That’s where you come in. \n",
        "<br><br>\n",
        "In the next cell, define a `Turtle` class that inherits from the `Animal` class. Then go ahead and set its category. For instance, a turtle is generally considered a reptile. Although modern cladistics call this categorization into question, for purposes of this exercise we will say turtles are reptiles! \n",
        "\n"
      ]
    },
    {
      "cell_type": "code",
      "metadata": {
        "id": "3TsinjJS0MiG",
        "colab_type": "code",
        "colab": {}
      },
      "source": [
        "class Turtle(Animal):\n",
        "  category='reptile'\n"
      ],
      "execution_count": 0,
      "outputs": []
    },
    {
      "cell_type": "markdown",
      "metadata": {
        "id": "SKe3_X3K0MiR",
        "colab_type": "text"
      },
      "source": [
        "Run the following cell to check whether you correctly defined your `Turtle` class and set its category to reptile."
      ]
    },
    {
      "cell_type": "code",
      "metadata": {
        "id": "hvbfbS5b507I",
        "colab_type": "code",
        "colab": {
          "base_uri": "https://localhost:8080/",
          "height": 34
        },
        "outputId": "990322fd-75e6-4d22-ea7e-139056904122"
      },
      "source": [
        "print(Trutle.category)"
      ],
      "execution_count": 36,
      "outputs": [
        {
          "output_type": "stream",
          "text": [
            "reptiles\n"
          ],
          "name": "stdout"
        }
      ]
    },
    {
      "cell_type": "markdown",
      "metadata": {
        "id": "w-qh-cpe0MiZ",
        "colab_type": "text"
      },
      "source": [
        "Was the output of the above cell reptile? If not, go back and edit your `Turtle` class making sure that it inherits from the `Animal` class and its category is properly set to reptile. Be sure to re-run that cell once you've finished your edits. Did you get it? If so, great!"
      ]
    },
    {
      "cell_type": "markdown",
      "metadata": {
        "id": "cisgBXyD0Mia",
        "colab_type": "text"
      },
      "source": [
        "Next, let’s practice **composition** a little bit. This one will require a second type of `Animal` that is in the same category as the first. For example, since you already created a `Turtle` class, go ahead and create a `Snake` class. Don’t forget that it also inherits from the `Animal` class and that its category should be set to reptile."
      ]
    },
    {
      "cell_type": "code",
      "metadata": {
        "id": "kcKpraAS0Miu",
        "colab_type": "code",
        "colab": {}
      },
      "source": [
        "class Snake(Animal):\n",
        "  category='reptile'"
      ],
      "execution_count": 0,
      "outputs": []
    },
    {
      "cell_type": "markdown",
      "metadata": {
        "id": "FAfaVG0u0Mi2",
        "colab_type": "text"
      },
      "source": [
        "Now, let’s say we have a large variety of `Animal`s (such as turtles and snakes) in a Zoo. Below we have the `Zoo` class. We’re going to use it to organize our various `Animal`s. Remember, inheritance says a Turtle is an `Animal`, but a `Zoo` is not an `Animal` and an `Animal` is not a `Zoo` -- though they are related to one another. "
      ]
    },
    {
      "cell_type": "code",
      "metadata": {
        "id": "JfG-UcnS0Mi8",
        "colab_type": "code",
        "colab": {}
      },
      "source": [
        "class Zoo:\n",
        "    def __init__(self):\n",
        "        self.current_animals = {}\n",
        "    \n",
        "    def add_animal(self, animal):\n",
        "        self.current_animals[animal.name] = animal.category\n",
        "    \n",
        "    def total_of_category(self, category):\n",
        "        result = 0\n",
        "        for animal in self.current_animals.values():\n",
        "            if animal == category:\n",
        "                result += 1\n",
        "        return result\n",
        "\n",
        "zoo = Zoo()"
      ],
      "execution_count": 0,
      "outputs": []
    },
    {
      "cell_type": "markdown",
      "metadata": {
        "id": "THASLb6I0Mi5",
        "colab_type": "text"
      },
      "source": [
        "Fill in the blanks of the `Zoo` class below so that you can use **zoo.add_animal( )** to add instances of the `Animal` subclasses you created above. Once you’ve added them all, you should be able to use **zoo.total_of_category( )** to tell you exactly how many individual `Animal` types the `Zoo` has for each category! Be sure to run the cell once you've finished your edits."
      ]
    },
    {
      "cell_type": "markdown",
      "metadata": {
        "id": "PpKn-cr50MjE",
        "colab_type": "text"
      },
      "source": [
        "Run the following cell to check whether you properly filled in the blanks of your `Zoo` class."
      ]
    },
    {
      "cell_type": "code",
      "metadata": {
        "id": "RGvM2hQJ0MjF",
        "colab_type": "code",
        "colab": {
          "base_uri": "https://localhost:8080/",
          "height": 34
        },
        "outputId": "27d18aa2-ace2-4077-e805-e333f2c802f5"
      },
      "source": [
        "turtle = Turtle(\"Turtle\") #create an instance of the Turtle class\n",
        "snake = Snake(\"Snake\") #create an instance of the Snake class\n",
        "\n",
        "zoo.add_animal(turtle)\n",
        "zoo.add_animal(snake)\n",
        "\n",
        "print(zoo.total_of_category(\"reptile\")) #how many zoo animal types in the reptile category"
      ],
      "execution_count": 35,
      "outputs": [
        {
          "output_type": "stream",
          "text": [
            "2\n"
          ],
          "name": "stdout"
        }
      ]
    },
    {
      "cell_type": "markdown",
      "metadata": {
        "id": "__pjgASi0MjL",
        "colab_type": "text"
      },
      "source": [
        "Was the output of the above cell 2? If not, go back and edit the `Zoo` class making sure to fill in the blanks with the appropriate attributes. Be sure to re-run that cell once you've finished your edits.  \n",
        "<br>\n",
        "Did you get it? If so, perfect! You have successfully defined your `Turtle` and `Snake` subclasses as well as your `Zoo` class.  You are all done with this notebook. Great work!"
      ]
    }
  ]
}